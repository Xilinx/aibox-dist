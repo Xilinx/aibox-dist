{
 "cells": [
  {
   "cell_type": "markdown",
   "metadata": {},
   "source": [
    "![Xilinx Logo](images/xilinx_logo.png \"Xilinx Logo\")"
   ]
  },
  {
   "cell_type": "markdown",
   "metadata": {},
   "source": [
    "# 1. Introduction:\n",
    "\n",
    "The AIBox-Dist application works to provide cross camera tracking and identification function. One key step to deploy the distributed application is to calibrate the remotely distributed cameras, i.e. to get the monitoring region and relation to the position/view of the capturing cameras. Please refer to the [Setting up the Board and Application Deployment of Kria™ KV260 Vision AI Starter Kit AIBox-Dist](https://xilinx.github.io/kria-apps-docs/index.html) for more detailed info.\n",
    "\n",
    "This notebook assists the user to capture the image of remote caputring cameras, and provides an interactive way to get the cooridation of the points you picked up as region of interest, which will be used as part of the calibration json file."
   ]
  },
  {
   "cell_type": "markdown",
   "metadata": {},
   "source": [
    "# 2. Imports and Initialization\n"
   ]
  },
  {
   "cell_type": "markdown",
   "metadata": {},
   "source": [
    "## Import all python modules required for this notebook."
   ]
  },
  {
   "cell_type": "markdown",
   "metadata": {},
   "source": [
    "* Import system, util modules"
   ]
  },
  {
   "cell_type": "code",
   "execution_count": null,
   "metadata": {},
   "outputs": [],
   "source": [
    "%matplotlib widget\n",
    "import sys\n",
    "import glob\n",
    "import subprocess\n",
    "import re\n",
    "import os\n",
    "import cv2"
   ]
  },
  {
   "cell_type": "markdown",
   "metadata": {},
   "source": [
    "* GStreamer related library import."
   ]
  },
  {
   "cell_type": "code",
   "execution_count": null,
   "metadata": {},
   "outputs": [],
   "source": [
    "import gi\n",
    "gi.require_version('Gst', '1.0')\n",
    "gi.require_version(\"GstApp\", \"1.0\")\n",
    "gi.require_version('GstVideo', '1.0')\n",
    "gi.require_version('GIRepository', '2.0')\n",
    "from gi.repository import GObject, GLib, Gst, GstVideo, GLib, GIRepository\n",
    "Gst.init(None)\n",
    "Gst.debug_set_threshold_from_string('*:1', True)"
   ]
  },
  {
   "cell_type": "code",
   "execution_count": null,
   "metadata": {},
   "outputs": [],
   "source": []
  },
  {
   "cell_type": "markdown",
   "metadata": {},
   "source": [
    "# 3. Get the Coordinates to Calibrate the System"
   ]
  },
  {
   "cell_type": "markdown",
   "metadata": {},
   "source": [
    "## Functions Definition\n",
    "\n",
    "  3 functions are defined:\n",
    "  * CaptureCam: Capture the image from the remote camera by providing the IP address\n",
    "  \n",
    "  * MarkPoints:   Interactively mark the points\n",
    "  \n",
    "  * PrintCoor:    Print out the json section of the coordinates of those points marked in the interactive process by running `MarkPoints`"
   ]
  },
  {
   "cell_type": "code",
   "execution_count": null,
   "metadata": {},
   "outputs": [],
   "source": [
    "def CaptureCam(ip):\n",
    "    str=(\"rtspsrc location=\\\"rtsp://{}:554/test\\\" ! rtpmp2tdepay ! tsparse ! video/mpegts ! tsdemux ! h264parse ! omxh264dec ! videoconvert ! video/x-raw, format=BGR, width=1920, height=1080 ! appsink\".format(ip))\n",
    "    cap=cv2.VideoCapture(str,cv2.CAP_GSTREAMER)\n",
    "    _,img=cap.read()\n",
    "    img=cv2.cvtColor(img,cv2.COLOR_BGR2RGB)\n",
    "    imgs[ip]=img\n",
    "    print(\"Cam {} captured.\".format(ip))\n",
    "    \n",
    "def MarkPoints(ip):\n",
    "    import matplotlib.pyplot as plt\n",
    "    global ind, coors, imgs\n",
    "    fig,ax=plt.subplots()\n",
    "    im=ax.imshow(imgs[ip])\n",
    "\n",
    "    ind=0\n",
    "    coors[ip]=[]\n",
    "    \n",
    "    global updateimg\n",
    "    updateimg=imgs[ip].copy()\n",
    "    def Press(event):\n",
    "        global updateimg, ind, coors\n",
    "        updateimg=cv2.circle(updateimg,(int(event.xdata), int(event.ydata)), 10, (0,0,255),10)\n",
    "        updateimg=cv2.putText(updateimg,\"{}\".format(ind), (int(event.xdata), int(event.ydata)), cv2.FONT_HERSHEY_SIMPLEX, 5, (0,0,255), 5, cv2.LINE_AA)\n",
    "        coors[ip].append((int(event.xdata), int(event.ydata)))\n",
    "\n",
    "        ind+=1\n",
    "        im.set_data(updateimg)\n",
    "        fig.canvas.draw()\n",
    "\n",
    "\n",
    "    fig.canvas.mpl_connect('button_press_event', Press)\n",
    "    plt.show()\n",
    "\n",
    "def PrintCoor(ip):\n",
    "    global coors\n",
    "    print(\"IP:\",ip)\n",
    "    print(\"[\\n\")\n",
    "    for ind, xy in enumerate(coors[ip]):\n",
    "        print(\" \"*4, \"{\")\n",
    "        print(\" \"*8, '\"image\":{{ \\\"x\\\":{}, \"y\":{} }},'.format(xy[0], xy[1]))\n",
    "        print(\" \"*8, '\"plan\":{ \"x\": todo, \"y\": todo }')\n",
    "        print(\" \"*4, \"}}{}\".format('' if ind==len(coors[ip])-1 else ','))\n",
    "    print(\"],\")"
   ]
  },
  {
   "cell_type": "markdown",
   "metadata": {},
   "source": [
    "## Variable Definition\n",
    "\n",
    "The variable `ip` is the IP address of the remote camera, and will be used as the paramemter to the 3 functions defined above."
   ]
  },
  {
   "cell_type": "code",
   "execution_count": null,
   "metadata": {},
   "outputs": [],
   "source": [
    "ip=\"192.168.3.124\""
   ]
  },
  {
   "cell_type": "markdown",
   "metadata": {},
   "source": [
    "`coors` and `imgs` are the variables to save the coordinates of the marked points and the captured images for all the cameras you referred with the `ip` variable"
   ]
  },
  {
   "cell_type": "code",
   "execution_count": null,
   "metadata": {},
   "outputs": [],
   "source": [
    "coors={}\n",
    "imgs={}"
   ]
  },
  {
   "cell_type": "markdown",
   "metadata": {
    "tags": []
   },
   "source": [
    "## Capture and Save the Image of the Remote IP Camera\n",
    "\n",
    "  Please wait until the message \"Cam [IP you provide] captured\" shows up."
   ]
  },
  {
   "cell_type": "code",
   "execution_count": null,
   "metadata": {},
   "outputs": [],
   "source": [
    "CaptureCam(ip)"
   ]
  },
  {
   "cell_type": "markdown",
   "metadata": {},
   "source": [
    "## Interactively Get the Coordinate of the Point of Interest\n",
    "Run the following cell to get an interactive image of the remote camera with address `ip`. Please click on the image to mark the points to be used as calibration points.\n",
    "\n",
    "To clear the marked points and redo, please just rerun the cell."
   ]
  },
  {
   "cell_type": "code",
   "execution_count": null,
   "metadata": {},
   "outputs": [],
   "source": [
    "MarkPoints(ip)"
   ]
  },
  {
   "cell_type": "markdown",
   "metadata": {},
   "source": [
    "## Print Out the Coordinates of the Points Marked to the Camera with IP Address `ip`"
   ]
  },
  {
   "cell_type": "code",
   "execution_count": null,
   "metadata": {},
   "outputs": [],
   "source": [
    "PrintCoor(ip)"
   ]
  },
  {
   "cell_type": "markdown",
   "metadata": {
    "tags": []
   },
   "source": [
    "# 4. Summary\n",
    "\n",
    "After getting the coordinates, they should be filled to the calibration json file which is needed to run the AIBox-Dist application for the present tracking system."
   ]
  },
  {
   "cell_type": "markdown",
   "metadata": {},
   "source": [
    "<center>Copyright© 2021 Xilinx</center>"
   ]
  }
 ],
 "metadata": {
  "kernelspec": {
   "display_name": "Python 3 (ipykernel)",
   "language": "python",
   "name": "python3"
  },
  "language_info": {
   "codemirror_mode": {
    "name": "ipython",
    "version": 3
   },
   "file_extension": ".py",
   "mimetype": "text/x-python",
   "name": "python",
   "nbconvert_exporter": "python",
   "pygments_lexer": "ipython3",
   "version": "3.9.9"
  }
 },
 "nbformat": 4,
 "nbformat_minor": 4
}
